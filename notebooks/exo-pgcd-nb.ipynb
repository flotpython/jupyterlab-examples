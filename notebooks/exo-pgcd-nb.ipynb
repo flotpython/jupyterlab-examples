{
 "cells": [
  {
   "cell_type": "markdown",
   "id": "11bd566a",
   "metadata": {},
   "source": [
    "# nbautoeval in jlite\n",
    "\n",
    "here is a first, static, test; there is another way to do this in the jlite section"
   ]
  },
  {
   "cell_type": "code",
   "execution_count": null,
   "id": "6083ba60",
   "metadata": {},
   "outputs": [],
   "source": [
    "from exo_pgcd import exo_pgcd\n",
    "\n",
    "exo_pgcd.example()"
   ]
  },
  {
   "cell_type": "code",
   "execution_count": null,
   "id": "3a41a76f",
   "metadata": {},
   "outputs": [],
   "source": [
    "def pgcd(a, b):\n",
    "    return b % a"
   ]
  },
  {
   "cell_type": "code",
   "execution_count": null,
   "id": "c99f926d",
   "metadata": {},
   "outputs": [],
   "source": [
    "exo_pgcd.correction(pgcd)"
   ]
  }
 ],
 "metadata": {
  "kernelspec": {
   "display_name": "Python 3 (ipykernel)",
   "language": "python",
   "name": "python3"
  },
  "language_info": {
   "name": "python",
   "nbconvert_exporter": "python",
   "pygments_lexer": "ipython3"
  }
 },
 "nbformat": 4,
 "nbformat_minor": 5
}
