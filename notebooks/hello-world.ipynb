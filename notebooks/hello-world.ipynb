{
 "cells": [
  {
   "cell_type": "markdown",
   "id": "a798480a-c028-4aa9-b8ed-7ce4bb7976f3",
   "metadata": {},
   "source": [
    "# simplest possible notebook"
   ]
  },
  {
   "cell_type": "code",
   "execution_count": null,
   "id": "59ed0923-0a96-4825-8a8f-f5cd9c7d36c5",
   "metadata": {},
   "outputs": [],
   "source": [
    "print(\"hello world\")"
   ]
  }
 ],
 "metadata": {
  "kernelspec": {
   "display_name": "Python 3 (ipykernel)",
   "language": "python",
   "name": "python3"
  },
  "language_info": {
   "codemirror_mode": {
    "name": "ipython",
    "version": 3
   },
   "file_extension": ".py",
   "mimetype": "text/x-python",
   "name": "python",
   "nbconvert_exporter": "python",
   "pygments_lexer": "ipython3",
   "version": "3.12.0"
  }
 },
 "nbformat": 4,
 "nbformat_minor": 5
}
